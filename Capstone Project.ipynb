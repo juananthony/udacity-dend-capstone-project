{
 "cells": [
  {
   "cell_type": "markdown",
   "metadata": {},
   "source": [
    "# Data Engineering Capstone Project - Metro_Madrid\n",
    "\n",
    "## Project Summary\n",
    "This notebook gets output data from [metro-big-data-unir](https://github.com/juananthony/metro-big-data-unir) project and create a database to analysis.\n",
    "\n",
    "[*Metro de Madrid*](https://www.metromadrid.es/) is the name of the tube/subway service that operates in Madrid, Spain. This service has 302 stations on 13 lines plus a light rail system called *Metro Ligero*. This service is used, on average in 2020, more than 30 million times each month.\n",
    "\n",
    "The project follows the follow steps:\n",
    "* Step 1: Scope the Project and Gather Data\n",
    "* Step 2: Explore and Assess the Data\n",
    "* Step 3: Define the Data Model\n",
    "* Step 4: Run ETL to Model the Data\n",
    "* Step 5: Complete Project Write Up"
   ]
  },
  {
   "cell_type": "code",
   "execution_count": 1,
   "metadata": {},
   "outputs": [],
   "source": [
    "import os\n",
    "from pyspark.sql import SparkSession"
   ]
  },
  {
   "cell_type": "code",
   "execution_count": 2,
   "metadata": {},
   "outputs": [],
   "source": [
    "spark = SparkSession.builder.appName('udacity-capstone').getOrCreate()\n",
    "spark.conf.set('spark.sql.session.timeZone', 'CET')"
   ]
  },
  {
   "cell_type": "markdown",
   "metadata": {},
   "source": [
    "## Step 1: Scope the Project and Gather Data\n",
    "\n",
    "### Scope \n",
    "Explain what you plan to do in the project in more detail. What data do you use? What is your end solution look like? What tools did you use? etc>\n",
    "\n",
    "### Describe and Gather Data \n",
    "Describe the data sets you're using. Where did it come from? What type of information is included? "
   ]
  },
  {
   "cell_type": "code",
   "execution_count": 3,
   "metadata": {},
   "outputs": [],
   "source": [
    "DATA_PATH = './data'\n",
    "lines_file = 'lines.csv'\n",
    "stations_file = 'stations.csv'\n",
    "mentions_file = 'mentions_20210210.csv'"
   ]
  },
  {
   "cell_type": "code",
   "execution_count": 4,
   "metadata": {},
   "outputs": [
    {
     "data": {
      "text/plain": [
       "16"
      ]
     },
     "execution_count": 4,
     "metadata": {},
     "output_type": "execute_result"
    }
   ],
   "source": [
    "lines = spark.read.csv(os.path.join(DATA_PATH, lines_file), header=True)\n",
    "lines.count()"
   ]
  },
  {
   "cell_type": "code",
   "execution_count": 5,
   "metadata": {},
   "outputs": [
    {
     "data": {
      "text/plain": [
       "332"
      ]
     },
     "execution_count": 5,
     "metadata": {},
     "output_type": "execute_result"
    }
   ],
   "source": [
    "stations = spark.read.csv(os.path.join(DATA_PATH, stations_file), header=True)\n",
    "stations.count()"
   ]
  },
  {
   "cell_type": "code",
   "execution_count": 6,
   "metadata": {},
   "outputs": [
    {
     "name": "stdout",
     "output_type": "stream",
     "text": [
      "+--------------------+--------------------+--------------------+-------------------+---------------------+------------------+--------------------+----------------+--------------------+----------------------+----------------------------+------------------------+---------------------------------+\n",
      "|                 _id|          created_at|                text|                 id|in_reply_to_status_id|           user.id|           user.name|user.screen_name|    user.description|user.profile_image_url|user.profile_image_url_https|extended_tweet.full_text|classification.naive_bayes.result|\n",
      "+--------------------+--------------------+--------------------+-------------------+---------------------+------------------+--------------------+----------------+--------------------+----------------------+----------------------------+------------------------+---------------------------------+\n",
      "|ObjectId(5be9f6d0...|Mon Nov 12 21:55:...|@metro_madrid Qué...|1062101577610215424|  1060150880522121216|702578868503388160|   María Agustí Sanz|     magustisanz|Profe de Lengua y...|  http://pbs.twimg....|        https://pbs.twimg...|    @metro_madrid Qué...|                        complaint|\n",
      "|ObjectId(5be9ee75...|Mon Nov 12 21:19:...|RT @PodemosPueblo...|1062092603116716035|                 null|         524617511|        Hector Lopez|      tetozlopez|           I.Q. UNAM|  http://pbs.twimg....|        https://pbs.twimg...|                    null|                        complaint|\n",
      "|ObjectId(5bea6dd0...|Tue Nov 13 06:23:...|@metro_madrid @es...|1062229353013133317|  1062007184257699840|         607614945|                Plrn|        plrpngrc|La incompetencia ...|  http://pbs.twimg....|        https://pbs.twimg...|                    null|                        complaint|\n",
      "|ObjectId(5bea7501...|Tue Nov 13 06:53:...|@metro_madrid pie...|1062237074378645504|                 null|         480277069|             Sira 💪|        sira1981|Yo soy yo y mis c...|  http://pbs.twimg....|        https://pbs.twimg...|    @metro_madrid pie...|                        complaint|\n",
      "|ObjectId(5bea75c5...|Tue Nov 13 06:57:...|@metro_madrid \n",
      "B....|1062237895321378818|                 null|780451262949097473|Angela castilla rosa| Angelac63300555|                null|  http://pbs.twimg....|        https://pbs.twimg...|    @metro_madrid \n",
      "B....|                        complaint|\n",
      "|ObjectId(5bea7258...|Tue Nov 13 06:42:...|@metro_madrid bue...|1062234217101307905|                 null|715247379851702273|    Ana Belen Martín|     Reclameitor|                null|  http://pbs.twimg....|        https://pbs.twimg...|                    null|                        complaint|\n",
      "|ObjectId(5bea7a59...|Tue Nov 13 07:16:...|@metro_madrid  la...|1062242809292509184|                 null|         273500984|                  yo|     silviaaaa84|                null|  http://pbs.twimg....|        https://pbs.twimg...|    @metro_madrid  la...|                        complaint|\n",
      "|ObjectId(5bea766b...|Tue Nov 13 06:59:...|@metro_madrid Par...|1062238590443360256|  1062209425514119168|        1176765048|              Sandra|    Sandra_corfe|Todo parece impos...|  http://pbs.twimg....|        https://pbs.twimg...|                    null|                        complaint|\n",
      "|ObjectId(5bea8418...|Tue Nov 13 07:58:...|@metro_madrid @Su...|1062253275775410176|                 null|982169180899164160|          Carpe Diem|   carpediem207x|                null|  http://abs.twimg....|        https://abs.twimg...|    @metro_madrid @Su...|                        complaint|\n",
      "|ObjectId(5bea1614...|Tue Nov 13 00:08:...|RT @PodemosPueblo...|1062135146030288896|                 null|        2788872043|     David Carbajal.|     davidcarvi2|chilango d nacimi...|  http://pbs.twimg....|        https://pbs.twimg...|                    null|                        complaint|\n",
      "|ObjectId(5bea75e4...|Tue Nov 13 06:57:...|@metro_madrid por...|1062238023159570433|                 null|        2247611299|            Ana Loal|      ana_loal77|                null|  http://pbs.twimg....|        https://pbs.twimg...|                    null|                        complaint|\n",
      "|ObjectId(5bea139a...|Mon Nov 12 23:58:...|RT @PodemosPueblo...|1062132488401752064|                 null|         293777211|                 DHI|      dhielvimar|            Soy niña|  http://pbs.twimg....|        https://pbs.twimg...|                    null|                        complaint|\n",
      "|ObjectId(5beaa7e7...|Tue Nov 13 10:30:...|@metro_madrid Tod...|1062291724226179072|  1062290282052497408|         191953244|          Laura Díaz|       14lauradr|Si se cree y se t...|  http://pbs.twimg....|        https://pbs.twimg...|                    null|                        complaint|\n",
      "|ObjectId(5bea8f37...|Tue Nov 13 08:45:...|@metro_madrid Des...|1062265216627625984|  1062265038147383297|         303859117|          May Atleti|    Aylenmadrid9|Seduce mi mente y...|  http://pbs.twimg....|        https://pbs.twimg...|                    null|                        complaint|\n",
      "|ObjectId(5bead297...|Tue Nov 13 13:33:...|@metro_madrid si ...|1062337535844605953|                 null|         800771162|         Lopeciña :)|      Maria_lop5|Los arriesgadores...|  http://pbs.twimg....|        https://pbs.twimg...|    @metro_madrid si ...|                        complaint|\n",
      "|ObjectId(5beac1e5...|Tue Nov 13 12:21:...|@metro_madrid @Co...|1062319632370016258|                 null|        2827738863|          jose prado|    josema_prado|                null|  http://pbs.twimg....|        https://pbs.twimg...|    @metro_madrid @Co...|                        complaint|\n",
      "|ObjectId(5beacd80...|Tue Nov 13 13:11:...|@metro_madrid lle...|1062332094188343296|                 null|          14523705|               JMGRF|           JMGRF|Si quieres saber,...|  http://pbs.twimg....|        https://pbs.twimg...|    @metro_madrid lle...|                        complaint|\n",
      "|ObjectId(5beadb5c...|Tue Nov 13 14:10:...|@metro_madrid Lín...|1062346976694583296|                 null|        2258689623|    Sergio Rodriguez|    sergiororo25|                null|  http://pbs.twimg....|        https://pbs.twimg...|    @metro_madrid Lín...|                        complaint|\n",
      "|ObjectId(5beabe8e...|Tue Nov 13 12:07:...|@metro_madrid En ...|1062316044361101312|                 null|784001824021946369|   J M CABO SANABRIA|   cabo_sanabria|                null|  http://pbs.twimg....|        https://pbs.twimg...|    @metro_madrid En ...|                        complaint|\n",
      "|ObjectId(5beade87...|Tue Nov 13 14:24:...|@metro_madrid El ...|1062350377620783105|                 null|        2258689623|    Sergio Rodriguez|    sergiororo25|                null|  http://pbs.twimg....|        https://pbs.twimg...|    @metro_madrid El ...|                        complaint|\n",
      "+--------------------+--------------------+--------------------+-------------------+---------------------+------------------+--------------------+----------------+--------------------+----------------------+----------------------------+------------------------+---------------------------------+\n",
      "only showing top 20 rows\n",
      "\n"
     ]
    }
   ],
   "source": [
    "mentions = spark.read.csv(os.path.join(DATA_PATH, mentions_file), header=True, multiLine=True, escape='\"')\n",
    "mentions.show()"
   ]
  },
  {
   "cell_type": "code",
   "execution_count": 7,
   "metadata": {},
   "outputs": [
    {
     "name": "stdout",
     "output_type": "stream",
     "text": [
      "root\n",
      " |-- _id: string (nullable = true)\n",
      " |-- created_at: string (nullable = true)\n",
      " |-- text: string (nullable = true)\n",
      " |-- id: string (nullable = true)\n",
      " |-- in_reply_to_status_id: string (nullable = true)\n",
      " |-- user.id: string (nullable = true)\n",
      " |-- user.name: string (nullable = true)\n",
      " |-- user.screen_name: string (nullable = true)\n",
      " |-- user.description: string (nullable = true)\n",
      " |-- user.profile_image_url: string (nullable = true)\n",
      " |-- user.profile_image_url_https: string (nullable = true)\n",
      " |-- extended_tweet.full_text: string (nullable = true)\n",
      " |-- classification.naive_bayes.result: string (nullable = true)\n",
      "\n"
     ]
    }
   ],
   "source": [
    "mentions.printSchema()"
   ]
  },
  {
   "cell_type": "code",
   "execution_count": 8,
   "metadata": {},
   "outputs": [
    {
     "name": "stdout",
     "output_type": "stream",
     "text": [
      "+---------------------------------+------+\n",
      "|classification.naive_bayes.result| count|\n",
      "+---------------------------------+------+\n",
      "|                             null| 85465|\n",
      "|                          nothing|698591|\n",
      "|                        complaint|111612|\n",
      "|                            issue| 59499|\n",
      "+---------------------------------+------+\n",
      "\n"
     ]
    }
   ],
   "source": [
    "mentions.groupBy('`classification.naive_bayes.result`').count().show()"
   ]
  },
  {
   "cell_type": "markdown",
   "metadata": {},
   "source": [
    "## Step 2: Explore and Assess the Data\n",
    "### Explore the Data \n",
    "Identify data quality issues, like missing values, duplicate data, etc.\n",
    "\n",
    "### Cleaning Steps\n",
    "Document steps necessary to clean the data"
   ]
  },
  {
   "cell_type": "code",
   "execution_count": 9,
   "metadata": {},
   "outputs": [],
   "source": [
    "from pyspark.sql.functions import col, to_timestamp\n",
    "classes = ['complaint', 'issue']\n",
    "mentions = mentions.filter(col('`classification.naive_bayes.result`').isin(classes))"
   ]
  },
  {
   "cell_type": "code",
   "execution_count": 10,
   "metadata": {},
   "outputs": [],
   "source": [
    "mentions = mentions.withColumn('dt', to_timestamp(mentions.created_at, 'E MMM d HH:m:s Z y').alias('dt'))"
   ]
  },
  {
   "cell_type": "code",
   "execution_count": 11,
   "metadata": {},
   "outputs": [],
   "source": [
    "from pyspark.sql.functions import when\n",
    "mentions = mentions.withColumn('full_text', \n",
    "                               when(~col('`extended_tweet.full_text`').isNull(), col('`extended_tweet.full_text`'))\n",
    "                               .otherwise(col('text'))).drop('text','`extended_tweet.full_text`')"
   ]
  },
  {
   "cell_type": "markdown",
   "metadata": {},
   "source": [
    "## Step 3: Define the Data Model\n",
    "### 3.1 Conceptual Data Model\n",
    "The data we want to store is all messages that inform about any issue or complaint in a line or a station even if one message inform about an issue that affect two different lines. That the reason why the fact table is the inform fact, that can be a complaint or an issue. One tweet can inform about an issue that affect two lines (i.e.: a closed station and all lines that stops there). In other words, one tweet generates one or many \"inform fact\" records.\n",
    "\n",
    "![fact-dimension diagram](./img/class_diagram.png \"Fact-Dimension Diagram\")\n",
    "\n",
    "### 3.2 Mapping Out Data Pipelines\n",
    "List the steps necessary to pipeline the data into the chosen data model\n",
    " \n",
    "#### Line Dimension\n",
    "\n",
    "## Step 4: Run ETL to model the data\n",
    "\n",
    "### 4.1 Create the data model\n",
    "Build the data pipelines to create the data model.\n",
    "\n",
    "#### Line Dimension"
   ]
  },
  {
   "cell_type": "code",
   "execution_count": 12,
   "metadata": {},
   "outputs": [
    {
     "name": "stdout",
     "output_type": "stream",
     "text": [
      "+---------+-------+\n",
      "|line_name|line_id|\n",
      "+---------+-------+\n",
      "|       L9|      0|\n",
      "|      ML3|      1|\n",
      "|       L8|      2|\n",
      "|      ML1|      3|\n",
      "|      ML2|      4|\n",
      "+---------+-------+\n",
      "only showing top 5 rows\n",
      "\n"
     ]
    }
   ],
   "source": [
    "from pyspark.sql.functions import monotonically_increasing_id\n",
    "lines_dim = lines.withColumn('line_id', monotonically_increasing_id()).withColumnRenamed('line','line_name')\n",
    "lines_dim.show(5)"
   ]
  },
  {
   "cell_type": "markdown",
   "metadata": {},
   "source": [
    "#### Station Dimension"
   ]
  },
  {
   "cell_type": "code",
   "execution_count": 13,
   "metadata": {},
   "outputs": [
    {
     "name": "stdout",
     "output_type": "stream",
     "text": [
      "+----------+----------------+-------+\n",
      "|station_id|    station_name|line_id|\n",
      "+----------+----------------+-------+\n",
      "|         0|   Paco de Lucía|      0|\n",
      "|         1|      Mirasierra|      0|\n",
      "|         2|    Herrera Oria|      0|\n",
      "|         3|Barrio del Pilar|      0|\n",
      "|         4|        Ventilla|      0|\n",
      "+----------+----------------+-------+\n",
      "only showing top 5 rows\n",
      "\n"
     ]
    }
   ],
   "source": [
    "stations_dim = stations.join(lines_dim, lines_dim.line_name == stations.line, 'inner').select(monotonically_increasing_id().alias('station_id'), stations.station.alias('station_name'), lines_dim.line_id)\n",
    "stations_dim.show(5)"
   ]
  },
  {
   "cell_type": "markdown",
   "metadata": {},
   "source": [
    "#### Class Diagram"
   ]
  },
  {
   "cell_type": "code",
   "execution_count": 28,
   "metadata": {},
   "outputs": [],
   "source": [
    "from pyspark.sql import Window\n",
    "from pyspark.sql.functions import row_number\n",
    "\n",
    "class_df = mentions.select(col('`classification.naive_bayes.result`').alias('class_name')).distinct()\n",
    "w = Window.orderBy('class_name')\n",
    "\n",
    "class_dim = class_df.withColumn('class_id', row_number().over(w))"
   ]
  },
  {
   "cell_type": "markdown",
   "metadata": {},
   "source": [
    "#### Mapping date dimensions"
   ]
  },
  {
   "cell_type": "code",
   "execution_count": 24,
   "metadata": {},
   "outputs": [
    {
     "name": "stdout",
     "output_type": "stream",
     "text": [
      "+----+-------+-----+---+-------+----+------+-------+\n",
      "|year|quarter|month|day|weekday|hour|minute|date_id|\n",
      "+----+-------+-----+---+-------+----+------+-------+\n",
      "|2018|4      |11   |17 |7      |19  |42    |0      |\n",
      "|2018|4      |11   |20 |3      |11  |56    |1      |\n",
      "|2018|4      |11   |26 |2      |12  |22    |2      |\n",
      "|2018|4      |11   |30 |6      |0   |24    |3      |\n",
      "|2018|4      |11   |30 |6      |14  |35    |4      |\n",
      "|2018|4      |11   |30 |6      |19  |47    |5      |\n",
      "|2018|4      |11   |30 |6      |20  |44    |6      |\n",
      "|2018|4      |12   |1  |7      |9   |3     |7      |\n",
      "|2018|4      |12   |6  |5      |9   |50    |8      |\n",
      "|2018|4      |12   |6  |5      |10  |56    |9      |\n",
      "+----+-------+-----+---+-------+----+------+-------+\n",
      "only showing top 10 rows\n",
      "\n"
     ]
    }
   ],
   "source": [
    "from pyspark.sql.functions import year, month, quarter, dayofweek, dayofmonth, hour, minute\n",
    "\n",
    "date_dim = mentions.select(\n",
    "                        year(col('dt')).alias('year'),\n",
    "                        quarter(col('dt')).alias('quarter'),\n",
    "                        month(col('dt')).alias('month'),\n",
    "                        dayofmonth(col('dt')).alias('day'),\n",
    "                        dayofweek(col('dt')).alias('weekday'),\n",
    "                        hour(col('dt')).alias('hour'),\n",
    "                        minute(col('dt')).alias('minute')) \\\n",
    "                .dropDuplicates() \\\n",
    "                .withColumn('date_id', monotonically_increasing_id())\n",
    "\n",
    "date_dim.show(10, False)"
   ]
  },
  {
   "cell_type": "markdown",
   "metadata": {},
   "source": [
    "#### User Dimension"
   ]
  },
  {
   "cell_type": "code",
   "execution_count": 23,
   "metadata": {},
   "outputs": [],
   "source": [
    "user_dim = mentions.select(\n",
    "            col('`user.id`').alias('user_id'),\n",
    "            col('`user.name`').alias('user_name'),\n",
    "            col('`user.screen_name`').alias('screen_name'),\n",
    "            col('`user.description`').alias('description'),\n",
    "            col('`user.profile_image_url`').alias('profile_image_url'),\n",
    "            col('`user.profile_image_url_https`').alias('profile_image_url_https')\n",
    ")"
   ]
  },
  {
   "cell_type": "markdown",
   "metadata": {},
   "source": [
    "#### Tweet Dimension"
   ]
  },
  {
   "cell_type": "code",
   "execution_count": 26,
   "metadata": {},
   "outputs": [],
   "source": [
    "from pyspark.sql.functions import substring\n",
    "\n",
    "tweet_dim = mentions.join(date_dim,\n",
    "              (year(mentions.dt) == date_dim.year) &\n",
    "              (month(mentions.dt) == date_dim.month) &\n",
    "              (dayofmonth(mentions.dt) == date_dim.day) &\n",
    "              (hour(mentions.dt) == date_dim.hour) &\n",
    "              (minute(mentions.dt) == date_dim.minute),\n",
    "              'inner'\n",
    "             ) \\\n",
    "        .select(col('id').alias('tweet_id'),\n",
    "                'date_id',\n",
    "                col('`user.id`').alias('user_id'),\n",
    "                col('full_text').alias('text'),\n",
    "                col('in_reply_to_status_id').alias('reply_tweet_id')\n",
    "               )"
   ]
  },
  {
   "cell_type": "markdown",
   "metadata": {},
   "source": [
    "#### Fact table"
   ]
  },
  {
   "cell_type": "code",
   "execution_count": 63,
   "metadata": {},
   "outputs": [],
   "source": [
    "import re\n",
    "def generate_line_tags(text):\n",
    "    regex_dict = {\n",
    "        \"L1\": \"l(i|í)neas? ?(^|\\D)1(\\D|$)| L ?(^|\\D)1(\\D|$)|Pinar ?de ?Chamart(i|í)n|Bamb(u|ú)|Chamart(i|í)n|Plaza ?de ?Castilla|Valdeacederas|Tetu(a|á)n|Estrecho|Alvarado|Cuatro ?Caminos|R(i|í)os ?Rosas|Iglesia\t|Bilbao|Tribunal|Gran ?V(i|í)a|Sol|Tirso ?de ?Molina|Ant(o|ó)n ?Mart(i|í)n|Estaci(o|ó)n ?del ?Arte|Atocha ?Renfe|Men(e|é)ndez ?Pelayo|Pac(i|í)fico|Puente ?de ?Vallecas|Nueva ?Numancia|Portazgo|Buenos ?Aires|Alto ?del ?Arenal|Miguel ?Hern(a|á)ndez|Sierra ?de ?Guadalupe|Villa ?de ?Vallecas|Congosto|La ?Gavia|Las ?Suertes|Valdecarros\",\n",
    "        \"L2\": \"l(i|í)neas? ?(^|\\D)2(\\D|$)| L ?(^|\\D)2(\\D|$)|Las ?Rosas|Avenida ?de ?Guadalajara|Alsacia|La ?Almudena|La ?Elipa|Ventas|Manuel ?Becerra|Goya|Pr(i|í)ncipe ?de ?Vergara|Retiro|Banco ?de ?España|Sevilla|Sol|Ópera|Santo ?Domingo|Noviciado|San ?Bernardo|Quevedo|Canal|Cuatro ?Caminos\",\n",
    "        \"L3\": \"l(i|í)neas? ?(^|\\D)3(\\D|$)| L ?(^|\\D)3(\\D|$)|Villaverde|San ?Crist(o|ó)bal|Villaverde ?Bajo-Cruce|Ciudad ?de ?los ?Ángeles|San ?Ferm(i|í)n-Orcasur|Hospital ?12 ?de ?Octubre|Almendrales|Legazpi|Delicias|Palos ?de ?la ?Frontera|Embajadores|Lavapi(e|é)s|Sol|Callao|Plaza ?de ?España|Ventura ?Rodr(i|í)guez|Argüelles|Moncloa\",\n",
    "        \"L4\": \"l(i|í)neas? ?(^|\\D)4(\\D|$)| L ?(^|\\D)4(\\D|$)|Argüelles|San ?Bernardo|Bilbao|Alonso ?Mart(i|í)nez|Col(o|ó)n|Serrano|Vel(a|á)zquez|Goya|Lista|Diego ?de ?Le(o|ó)n|Avenida ?de ?Am(e|é)rica|Prosperidad|Alfonso ?XIII|Avenida ?de ?la ?Paz|Arturo ?Soria|Esperanza|Canillas|Mar ?de ?Cristal|San ?Lorenzo\t\t|Parque ?de ?Santa ?Mar(i|í)a|Hortaleza|Manoteras|Pinar ?de ?Chamart(i|í)n\",\n",
    "        \"L5\": \"l(i|í)neas? ?(^|\\D)5(\\D|$)| L ?(^|\\D)5(\\D|$)|Alameda ?de ?Osuna|El ?Capricho|Canillejas|Torre ?Arias|Suanzes|Ciudad ?Lineal|Pueblo ?Nuevo|Quintana|El ?Carmen|Ventas|Diego ?de ?Le(o|ó)n|N(u|ú)ñez ?de ?Balboa|Rub(e|é)n ?Dar(i|í)o|Alonso ?Mart(i|í)nez|Chueca|Gran ?V(i|í)a|Callao|Ópera|La ?Latina|Puerta ?de ?Toledo|Acacias|Pir(a|á)mides|Marqu(e|é)s ?de ?Vadillo|Urgel|Oporto|Vista ?Alegre|Carabanchel|Eugenia ?de ?Montijo|Aluche|Empalme|Campamento|Casa ?de ?Campo\",\n",
    "        \"L6\": \"l(i|í)neas? ?(^|\\D)6(\\D|$)| L ?(^|\\D)6(\\D|$)|Laguna|Lucero|Carpetana|Alto ?de ?Extremadura|Oporto|Puerta ?del ?Ángel|Opañel|Plaza ?El(i|í)ptica|Pr(i|í)ncipe ?P(i|í)o|Usera|Argüelles|Moncloa|Legazpi|Ciudad ?Universitaria|Arganzuela-Planetario|Vicente ?Aleixandre|M(e|é)ndez ?Álvaro|Guzm(a|á)n ?el ?Bueno|Pac(i|í)fico|Cuatro ?Caminos|Conde ?de ?Casal|Nuevos ?Ministerios|Sainz ?de ?Baranda|Rep(u|ú)blica ?Argentina|O'Donnell|Avenida ?de ?Am(e|é)rica|Manuel ?Becerra|Diego ?de ?Le(o|ó)n\",\n",
    "        \"L7\": \"l(i|í)neas? ?(^|\\D)7(\\D|$)| L ?(^|\\D)7(\\D|$)|Hospital ?del ?Henares|Henares|Jarama|San ?Fernando|La ?Rambla|Coslada ?Central|Barrio ?del ?Puerto|Estadio ?Metropolitano|Las ?Musas|San ?Blas|Simancas|Garc(i|í)a ?Noblejas|Ascao|Pueblo ?Nuevo|Barrio ?de ?la ?Concepci(o|ó)n|Parque ?de ?las ?Avenidas|Cartagena|Avenida ?de ?Am(e|é)rica|Gregorio ?Marañ(o|ó)n|Alonso ?Cano|Canal|Islas ?Filipinas|Guzm(a|á)n ?el ?Bueno|Francos ?Rodr(i|í)guez|Valdezarza|Antonio ?Machado|Peñagrande|Avenida ?de ?la ?Ilustraci(o|ó)n|Lacoma|Arroyofresno|Pitis\",\n",
    "        \"L8\": \"l(i|í)neas? ?(^|\\D)8(\\D|$)| L ?(^|\\D)8(\\D|$)|Nuevos ?Ministerios|Colombia|Pinar ?del ?Rey|Mar ?de ?Cristal|Feria ?de ?Madrid|Aeropuerto ?T1-T2-T3|Barajas|Aeropuerto ?T4\",\n",
    "        \"L9\": \"l(i|í)neas? ?(^|\\D)9(\\D|$)| L ?(^|\\D)9(\\D|$)|Paco ?de ?Luc(i|í)a|Mirasierra|Herrera ?Oria|Barrio ?del ?Pilar|Ventilla|Plaza ?de ?Castilla|Duque ?de ?Pastrana|P(i|í)o ?XII|Colombia|Concha ?Espina|Cruz ?del ?Rayo|Avenida ?de ?Am(e|é)rica|N(u|ú)ñez ?de ?Balboa|Pr(i|í)ncipe ?de ?Vergara|Ibiza|Sainz ?de ?Baranda|Estrella|Vinateros|Artilleros|Pavones|Valdebernardo|Vic(a|á)lvaro|San ?Cipriano|Puerta ?de ?Arganda|Rivas-Urbanizaciones|Rivas ?Futura|Rivas-Vaciamadrid|La ?Poveda|Arganda ?del ?Rey\",\n",
    "        \"L10\": \"l(i|í)neas? ?(^|\\D)10(\\D|$)| L ?(^|\\D)10(\\D|$)|Hospital ?Infanta ?Sof(i|í)a|Reyes ?Cat(o|ó)licos|Baunatal|Manuel ?de ?Falla|Marqu(e|é)s ?de ?la ?Valdavia|La ?Moraleja|La ?Granja|Ronda ?de ?la ?Comunicaci(o|ó)n|Las ?Tablas|Montecarmelo|Tres ?Olivos|Fuencarral|Begoña|Chamart(i|í)n|Plaza ?de ?Castilla|Cuzco|Santiago ?Bernab(e|é)u|Nuevos ?Ministerios|Gregorio ?Marañ(o|ó)n|Alonso ?Mart(i|í)nez|Tribunal|Plaza ?de ?España|Pr(i|í)ncipe ?P(i|í)o|Lago|Bat(a|á)n|Casa ?de ?Campo|Colonia ?Jard(i|í)n|Aviaci(o|ó)n ?Española|Cuatro ?Vientos|Joaqu(i|í)n ?Vilumbrales|Puerta ?del ?Sur\",\n",
    "        \"L11\": \"l(i|í)neas? ?(^|\\D)11(\\D|$)| L ?(^|\\D)11(\\D|$)|Plaza ?El(i|í)ptica|Abrantes|Pan ?Bendito|San ?Francisco|Carabanchel ?Alto|La ?Peseta|La ?Fortuna\",\n",
    "        \"L12\": \"l(i|í)neas? ?(^|\\D)12(\\D|$)| L ?(^|\\D)12(\\D|$)|Alcorc(o|ó)n ?Central|Parque ?Lisboa|Parque ?Oeste|Puerta ?del ?Sur|San ?Nicasio|Universidad ?Rey ?Juan ?Carlos|Legan(e|é)s ?Central|M(o|ó)stoles ?Central|Hospital ?Severo ?Ochoa|Pradillo|Casa ?del ?Reloj|Hospital ?de ?M(o|ó)stoles|Juli(a|á)n ?Besteiro|Manuela ?Malasaña|El ?Carrascal|Loranca|El ?Bercial|Hospital ?de ?Fuenlabrada|Los ?Espartales|Parque ?Europa|El ?Casar|Fuenlabrada ?Central|Juan ?de ?la ?Cierva|Parque ?de ?los ?Estados|Getafe ?Central|Alonso ?de ?Mendoza|Arroyo ?Culebro|Conservatorio\",\n",
    "        \"ML1\": \"metro ?ligero ?(^|\\D)1(\\D|$)| ml ?(^|\\D)1(\\D|$)|Pinar ?de ?Chamart(i|í)n|Fuente ?de ?la ?Mora|Virgen ?del ?Cortijo|Antonio ?Saura|Álvarez ?de ?Villaamil|Blasco ?Ibañez|Mar(i|í)a ?Tudor|Palas ?de ?Rey|Las ?Tablas\",\n",
    "        \"ML2\": \"metro ?ligero ?(^|\\D)2(\\D|$)| ml ?(^|\\D)2(\\D|$)|Colonia ?Jard(i|í)n|Prado ?de ?la ?Vega|Colonia ?de ?los ?Ángeles|Prado ?del ?Rey|Somosaguas ?Sur|Somosaguas ?Centro|Pozuelo ?Oeste|Prado ?de ?las ?Bodegas|B(e|é)lgica|Dos ?Castillas|Campus ?de ?Somosaguas|Avenida ?de ?Europa|Berna|Estaci(o|ó)n ?de ?Aravaca\",\n",
    "        \"ML3\": \"metro ?ligero ?(^|\\D)3(\\D|$)| ml ?(^|\\D)3(\\D|$)|Colonia ?Jard(i|í)n|Ciudad ?de ?la ?Imagen|Jos(e|é) ?Isbert|Ciudad ?del ?Cine|Cocheras|Retamares|Retamares ?Oeste|Montepr(i|í)ncipe|Ventorro ?del ?Cano|Prado ?del ?Espino|Ciudad ?Financiera ?Este|Cantabria|Ciudad ?Financiera ?Oeste|Ferial ?de ?Boadilla|Boadilla ?Centro|Nuevo ?Mundo|Siglo ?XXI|Infante ?Don ?Luis|Puerta ?de ?Boadilla\"\n",
    "    }\n",
    "    tags = []\n",
    "    for key, expr in regex_dict.items():\n",
    "        if re.search(expr, text, re.IGNORECASE):\n",
    "            tags.append(key)\n",
    "    return tags\n",
    "\n",
    "from pyspark.sql.functions import udf\n",
    "from pyspark.sql.types import ArrayType, StringType\n",
    "generate_lines_udf = udf(generate_line_tags, ArrayType(StringType()))"
   ]
  },
  {
   "cell_type": "code",
   "execution_count": 66,
   "metadata": {},
   "outputs": [
    {
     "name": "stdout",
     "output_type": "stream",
     "text": [
      "+----------------------------------+------------------------------+-------------------+---------------------+------------------+--------------------+----------------+-----------------------------------------------------------------------------------------------------------------------------------------------+---------------------------------------------------------------------------+----------------------------------------------------------------------------+----------------------------------------------------------------------------------------------------------------------------------------------------------------------------------------------------------------------------------------------------------------+---------------------------------+-------------------+----------------------------------------------------------------------------------------------------------------------------------------------------------------------------------------------------------------------------------------------------------------+--------------+---+\n",
      "|_id                               |created_at                    |id                 |in_reply_to_status_id|user.id           |user.name           |user.screen_name|user.description                                                                                                                               |user.profile_image_url                                                     |user.profile_image_url_https                                                |extended_tweet.full_text                                                                                                                                                                                                                                        |classification.naive_bayes.result|dt                 |full_text                                                                                                                                                                                                                                                       |lines_array   |col|\n",
      "+----------------------------------+------------------------------+-------------------+---------------------+------------------+--------------------+----------------+-----------------------------------------------------------------------------------------------------------------------------------------------+---------------------------------------------------------------------------+----------------------------------------------------------------------------+----------------------------------------------------------------------------------------------------------------------------------------------------------------------------------------------------------------------------------------------------------------+---------------------------------+-------------------+----------------------------------------------------------------------------------------------------------------------------------------------------------------------------------------------------------------------------------------------------------------+--------------+---+\n",
      "|ObjectId(5bea7501fab7400004ae89e0)|Tue Nov 13 06:53:48 +0000 2018|1062237074378645504|null                 |480277069         |Sira 💪             |sira1981        |Yo soy yo y mis circunstancias.                                                                                                                |http://pbs.twimg.com/profile_images/465279830565871616/oEaynlKd_normal.jpeg|https://pbs.twimg.com/profile_images/465279830565871616/oEaynlKd_normal.jpeg|@metro_madrid pierdo el metro en las rosas, próximo 5 minutos en hora punta, hago transbordo en goya para llegar bien al curro, lo pierdo, próximo tren 2 minutos en hora punta. Está claro que los pijos van mejor.                                            |complaint                        |2018-11-13 07:53:48|@metro_madrid pierdo el metro en las rosas, próximo 5 minutos en hora punta, hago transbordo en goya para llegar bien al curro, lo pierdo, próximo tren 2 minutos en hora punta. Está claro que los pijos van mejor.                                            |[L2, L4]      |L2 |\n",
      "|ObjectId(5bea7501fab7400004ae89e0)|Tue Nov 13 06:53:48 +0000 2018|1062237074378645504|null                 |480277069         |Sira 💪             |sira1981        |Yo soy yo y mis circunstancias.                                                                                                                |http://pbs.twimg.com/profile_images/465279830565871616/oEaynlKd_normal.jpeg|https://pbs.twimg.com/profile_images/465279830565871616/oEaynlKd_normal.jpeg|@metro_madrid pierdo el metro en las rosas, próximo 5 minutos en hora punta, hago transbordo en goya para llegar bien al curro, lo pierdo, próximo tren 2 minutos en hora punta. Está claro que los pijos van mejor.                                            |complaint                        |2018-11-13 07:53:48|@metro_madrid pierdo el metro en las rosas, próximo 5 minutos en hora punta, hago transbordo en goya para llegar bien al curro, lo pierdo, próximo tren 2 minutos en hora punta. Está claro que los pijos van mejor.                                            |[L2, L4]      |L4 |\n",
      "|ObjectId(5bea75c5fab7400004ae89e6)|Tue Nov 13 06:57:04 +0000 2018|1062237895321378818|null                 |780451262949097473|Angela castilla rosa|Angelac63300555 |null                                                                                                                                           |http://pbs.twimg.com/profile_images/914192561920774147/7KPZwgHf_normal.jpg |https://pbs.twimg.com/profile_images/914192561920774147/7KPZwgHf_normal.jpg |@metro_madrid \n",
      "B. Días. Llevamos poco funcionando con las líneas de metrosur q arreglaron y ya están las escaleras mecánicas sin funcionar. Ahora en Getafe central, hace poco en el Casar, casa del reloj, etc.... No entiendo el buen funcionamiento😡🤔🤔🤔  |complaint                        |2018-11-13 07:57:04|@metro_madrid \n",
      "B. Días. Llevamos poco funcionando con las líneas de metrosur q arreglaron y ya están las escaleras mecánicas sin funcionar. Ahora en Getafe central, hace poco en el Casar, casa del reloj, etc.... No entiendo el buen funcionamiento😡🤔🤔🤔  |[L12]         |L12|\n",
      "|ObjectId(5bea7258fab7400004ae89da)|Tue Nov 13 06:42:27 +0000 2018|1062234217101307905|null                 |715247379851702273|Ana Belen Martín    |Reclameitor     |null                                                                                                                                           |http://pbs.twimg.com/profile_images/715249209931382785/YNJRImQz_normal.jpg |https://pbs.twimg.com/profile_images/715249209931382785/YNJRImQz_normal.jpg |null                                                                                                                                                                                                                                                            |complaint                        |2018-11-13 07:42:27|@metro_madrid buenos días, escaleras de bajada en Alonso Martínez rotas. Previsión de reparación. Gracias                                                                                                                                                       |[L4, L5, L10] |L4 |\n",
      "|ObjectId(5bea7258fab7400004ae89da)|Tue Nov 13 06:42:27 +0000 2018|1062234217101307905|null                 |715247379851702273|Ana Belen Martín    |Reclameitor     |null                                                                                                                                           |http://pbs.twimg.com/profile_images/715249209931382785/YNJRImQz_normal.jpg |https://pbs.twimg.com/profile_images/715249209931382785/YNJRImQz_normal.jpg |null                                                                                                                                                                                                                                                            |complaint                        |2018-11-13 07:42:27|@metro_madrid buenos días, escaleras de bajada en Alonso Martínez rotas. Previsión de reparación. Gracias                                                                                                                                                       |[L4, L5, L10] |L5 |\n",
      "|ObjectId(5bea7258fab7400004ae89da)|Tue Nov 13 06:42:27 +0000 2018|1062234217101307905|null                 |715247379851702273|Ana Belen Martín    |Reclameitor     |null                                                                                                                                           |http://pbs.twimg.com/profile_images/715249209931382785/YNJRImQz_normal.jpg |https://pbs.twimg.com/profile_images/715249209931382785/YNJRImQz_normal.jpg |null                                                                                                                                                                                                                                                            |complaint                        |2018-11-13 07:42:27|@metro_madrid buenos días, escaleras de bajada en Alonso Martínez rotas. Previsión de reparación. Gracias                                                                                                                                                       |[L4, L5, L10] |L10|\n",
      "|ObjectId(5bea7a59fab7400004ae8a00)|Tue Nov 13 07:16:35 +0000 2018|1062242809292509184|null                 |273500984         |yo                  |silviaaaa84     |null                                                                                                                                           |http://pbs.twimg.com/profile_images/666019029832847361/8stn7fBV_normal.jpg |https://pbs.twimg.com/profile_images/666019029832847361/8stn7fBV_normal.jpg |@metro_madrid  la semana pasada las escaleras rotas en pacifico linea 1, esta semana volvemos a lo mismo!!!!Enserio van a hacer algo bien de una santa vez???                                                                                                   |complaint                        |2018-11-13 08:16:35|@metro_madrid  la semana pasada las escaleras rotas en pacifico linea 1, esta semana volvemos a lo mismo!!!!Enserio van a hacer algo bien de una santa vez???                                                                                                   |[L1, L6]      |L1 |\n",
      "|ObjectId(5bea7a59fab7400004ae8a00)|Tue Nov 13 07:16:35 +0000 2018|1062242809292509184|null                 |273500984         |yo                  |silviaaaa84     |null                                                                                                                                           |http://pbs.twimg.com/profile_images/666019029832847361/8stn7fBV_normal.jpg |https://pbs.twimg.com/profile_images/666019029832847361/8stn7fBV_normal.jpg |@metro_madrid  la semana pasada las escaleras rotas en pacifico linea 1, esta semana volvemos a lo mismo!!!!Enserio van a hacer algo bien de una santa vez???                                                                                                   |complaint                        |2018-11-13 08:16:35|@metro_madrid  la semana pasada las escaleras rotas en pacifico linea 1, esta semana volvemos a lo mismo!!!!Enserio van a hacer algo bien de una santa vez???                                                                                                   |[L1, L6]      |L6 |\n",
      "|ObjectId(5bea766bfab7400004ae89ec)|Tue Nov 13 06:59:50 +0000 2018|1062238590443360256|1062209425514119168  |1176765048        |Sandra              |Sandra_corfe    |Todo parece imposible hasta que se hace                                                                                                        |http://pbs.twimg.com/profile_images/783066066750767105/VagseDRW_normal.jpg |https://pbs.twimg.com/profile_images/783066066750767105/VagseDRW_normal.jpg |null                                                                                                                                                                                                                                                            |complaint                        |2018-11-13 07:59:50|@metro_madrid Para cuándo COBERTURA desde Campamento hacia Puerta del Sur y en la línea 12? No siempre hay seguridad cerca...                                                                                                                                   |[L5, L10, L12]|L5 |\n",
      "|ObjectId(5bea766bfab7400004ae89ec)|Tue Nov 13 06:59:50 +0000 2018|1062238590443360256|1062209425514119168  |1176765048        |Sandra              |Sandra_corfe    |Todo parece imposible hasta que se hace                                                                                                        |http://pbs.twimg.com/profile_images/783066066750767105/VagseDRW_normal.jpg |https://pbs.twimg.com/profile_images/783066066750767105/VagseDRW_normal.jpg |null                                                                                                                                                                                                                                                            |complaint                        |2018-11-13 07:59:50|@metro_madrid Para cuándo COBERTURA desde Campamento hacia Puerta del Sur y en la línea 12? No siempre hay seguridad cerca...                                                                                                                                   |[L5, L10, L12]|L10|\n",
      "|ObjectId(5bea766bfab7400004ae89ec)|Tue Nov 13 06:59:50 +0000 2018|1062238590443360256|1062209425514119168  |1176765048        |Sandra              |Sandra_corfe    |Todo parece imposible hasta que se hace                                                                                                        |http://pbs.twimg.com/profile_images/783066066750767105/VagseDRW_normal.jpg |https://pbs.twimg.com/profile_images/783066066750767105/VagseDRW_normal.jpg |null                                                                                                                                                                                                                                                            |complaint                        |2018-11-13 07:59:50|@metro_madrid Para cuándo COBERTURA desde Campamento hacia Puerta del Sur y en la línea 12? No siempre hay seguridad cerca...                                                                                                                                   |[L5, L10, L12]|L12|\n",
      "|ObjectId(5beaa7e7fab7400004ae8a56)|Tue Nov 13 10:30:58 +0000 2018|1062291724226179072|1062290282052497408  |191953244         |Laura Díaz          |14lauradr       |Si se cree y se trabaja, se puede.\n",
      "Periodista deportivo ⚽ Ahora en Deportes Cadena SER 📻                                                      |http://pbs.twimg.com/profile_images/1045359273365184512/ofguPwAl_normal.jpg|https://pbs.twimg.com/profile_images/1045359273365184512/ofguPwAl_normal.jpg|null                                                                                                                                                                                                                                                            |complaint                        |2018-11-13 11:30:58|@metro_madrid Toda la línea 7, tanto antes como después de la estación Estadio Metropolitano                                                                                                                                                                    |[L7]          |L7 |\n",
      "|ObjectId(5bea8f37fab7400004ae8a28)|Tue Nov 13 08:45:38 +0000 2018|1062265216627625984|1062265038147383297  |303859117         |May Atleti          |Aylenmadrid9    |Seduce mi mente y tendrás mi cuerpo. #Atleti #DiegoGodín #Bianco #Frenchie. Goditi ogni istante perche nulla torna indietro #NoAlMaltratoAnimal|http://pbs.twimg.com/profile_images/815206160592674816/Se7KmUQ1_normal.jpg |https://pbs.twimg.com/profile_images/815206160592674816/Se7KmUQ1_normal.jpg |null                                                                                                                                                                                                                                                            |complaint                        |2018-11-13 09:45:38|@metro_madrid Desde Puerta del Sur. Ahora vamos a llegar a Lago.                                                                                                                                                                                                |[L10, L12]    |L10|\n",
      "|ObjectId(5bea8f37fab7400004ae8a28)|Tue Nov 13 08:45:38 +0000 2018|1062265216627625984|1062265038147383297  |303859117         |May Atleti          |Aylenmadrid9    |Seduce mi mente y tendrás mi cuerpo. #Atleti #DiegoGodín #Bianco #Frenchie. Goditi ogni istante perche nulla torna indietro #NoAlMaltratoAnimal|http://pbs.twimg.com/profile_images/815206160592674816/Se7KmUQ1_normal.jpg |https://pbs.twimg.com/profile_images/815206160592674816/Se7KmUQ1_normal.jpg |null                                                                                                                                                                                                                                                            |complaint                        |2018-11-13 09:45:38|@metro_madrid Desde Puerta del Sur. Ahora vamos a llegar a Lago.                                                                                                                                                                                                |[L10, L12]    |L12|\n",
      "|ObjectId(5beac1e5fab7400004ae8a82)|Tue Nov 13 12:21:51 +0000 2018|1062319632370016258|null                 |2827738863        |jose prado          |josema_prado    |null                                                                                                                                           |http://pbs.twimg.com/profile_images/523818534816608257/fCf_zPn-_normal.jpeg|https://pbs.twimg.com/profile_images/523818534816608257/fCf_zPn-_normal.jpeg|@metro_madrid @ComunidadMadrid @MADRID @Renfe @EMTmadrid Como es posible que yo pague un 20% menos cuando solo PUEDO usar un 10% de los servicios por no ser ACCESIBLE.                                                                                         |complaint                        |2018-11-13 13:21:51|@metro_madrid @ComunidadMadrid @MADRID @Renfe @EMTmadrid Como es posible que yo pague un 20% menos cuando solo PUEDO usar un 10% de los servicios por no ser ACCESIBLE.                                                                                         |[L1, L2, L3]  |L1 |\n",
      "|ObjectId(5beac1e5fab7400004ae8a82)|Tue Nov 13 12:21:51 +0000 2018|1062319632370016258|null                 |2827738863        |jose prado          |josema_prado    |null                                                                                                                                           |http://pbs.twimg.com/profile_images/523818534816608257/fCf_zPn-_normal.jpeg|https://pbs.twimg.com/profile_images/523818534816608257/fCf_zPn-_normal.jpeg|@metro_madrid @ComunidadMadrid @MADRID @Renfe @EMTmadrid Como es posible que yo pague un 20% menos cuando solo PUEDO usar un 10% de los servicios por no ser ACCESIBLE.                                                                                         |complaint                        |2018-11-13 13:21:51|@metro_madrid @ComunidadMadrid @MADRID @Renfe @EMTmadrid Como es posible que yo pague un 20% menos cuando solo PUEDO usar un 10% de los servicios por no ser ACCESIBLE.                                                                                         |[L1, L2, L3]  |L2 |\n",
      "|ObjectId(5beac1e5fab7400004ae8a82)|Tue Nov 13 12:21:51 +0000 2018|1062319632370016258|null                 |2827738863        |jose prado          |josema_prado    |null                                                                                                                                           |http://pbs.twimg.com/profile_images/523818534816608257/fCf_zPn-_normal.jpeg|https://pbs.twimg.com/profile_images/523818534816608257/fCf_zPn-_normal.jpeg|@metro_madrid @ComunidadMadrid @MADRID @Renfe @EMTmadrid Como es posible que yo pague un 20% menos cuando solo PUEDO usar un 10% de los servicios por no ser ACCESIBLE.                                                                                         |complaint                        |2018-11-13 13:21:51|@metro_madrid @ComunidadMadrid @MADRID @Renfe @EMTmadrid Como es posible que yo pague un 20% menos cuando solo PUEDO usar un 10% de los servicios por no ser ACCESIBLE.                                                                                         |[L1, L2, L3]  |L3 |\n",
      "|ObjectId(5beadb5cfab7400004ae8aac)|Tue Nov 13 14:10:31 +0000 2018|1062346976694583296|null                 |2258689623        |Sergio Rodriguez    |sergiororo25    |null                                                                                                                                           |http://pbs.twimg.com/profile_images/426784603307659266/LnecvO5R_normal.jpeg|https://pbs.twimg.com/profile_images/426784603307659266/LnecvO5R_normal.jpeg|@metro_madrid Línea 10 estación Príncipe Pío dirección Tres Olivos. Número de coche M-7013 a eso de las 14:55. Un viajero llevaba un perro sin bozal y en la cabina contraria a la conducción sale un empleado del metro. Le acaricia y no le dice nada al dueño|complaint                        |2018-11-13 15:10:31|@metro_madrid Línea 10 estación Príncipe Pío dirección Tres Olivos. Número de coche M-7013 a eso de las 14:55. Un viajero llevaba un perro sin bozal y en la cabina contraria a la conducción sale un empleado del metro. Le acaricia y no le dice nada al dueño|[L6, L10]     |L6 |\n",
      "|ObjectId(5beadb5cfab7400004ae8aac)|Tue Nov 13 14:10:31 +0000 2018|1062346976694583296|null                 |2258689623        |Sergio Rodriguez    |sergiororo25    |null                                                                                                                                           |http://pbs.twimg.com/profile_images/426784603307659266/LnecvO5R_normal.jpeg|https://pbs.twimg.com/profile_images/426784603307659266/LnecvO5R_normal.jpeg|@metro_madrid Línea 10 estación Príncipe Pío dirección Tres Olivos. Número de coche M-7013 a eso de las 14:55. Un viajero llevaba un perro sin bozal y en la cabina contraria a la conducción sale un empleado del metro. Le acaricia y no le dice nada al dueño|complaint                        |2018-11-13 15:10:31|@metro_madrid Línea 10 estación Príncipe Pío dirección Tres Olivos. Número de coche M-7013 a eso de las 14:55. Un viajero llevaba un perro sin bozal y en la cabina contraria a la conducción sale un empleado del metro. Le acaricia y no le dice nada al dueño|[L6, L10]     |L10|\n",
      "|ObjectId(5beabe8efab7400004ae8a7c)|Tue Nov 13 12:07:36 +0000 2018|1062316044361101312|null                 |784001824021946369|J M CABO SANABRIA   |cabo_sanabria   |null                                                                                                                                           |http://pbs.twimg.com/profile_images/972861615690387456/Kn9vfR71_normal.jpg |https://pbs.twimg.com/profile_images/972861615690387456/Kn9vfR71_normal.jpg |@metro_madrid En está escalera del acceso a anden línea 3 dirección Moncloa no se limpia hace días. En los rincones hay restos del día de la inauguración. https://t.co/MgdWl2yDX1                                                                              |complaint                        |2018-11-13 13:07:36|@metro_madrid En está escalera del acceso a anden línea 3 dirección Moncloa no se limpia hace días. En los rincones hay restos del día de la inauguración. https://t.co/MgdWl2yDX1                                                                              |[L3, L6]      |L3 |\n",
      "+----------------------------------+------------------------------+-------------------+---------------------+------------------+--------------------+----------------+-----------------------------------------------------------------------------------------------------------------------------------------------+---------------------------------------------------------------------------+----------------------------------------------------------------------------+----------------------------------------------------------------------------------------------------------------------------------------------------------------------------------------------------------------------------------------------------------------+---------------------------------+-------------------+----------------------------------------------------------------------------------------------------------------------------------------------------------------------------------------------------------------------------------------------------------------+--------------+---+\n",
      "only showing top 20 rows\n",
      "\n"
     ]
    }
   ],
   "source": [
    "from pyspark.sql.functions import explode\n",
    "aux = mentions\n",
    "            .withColumn('lines_array', generate_lines_udf(col('full_text')))\n",
    "            .select('*', explode(col('lines_array')))"
   ]
  },
  {
   "cell_type": "code",
   "execution_count": 72,
   "metadata": {},
   "outputs": [
    {
     "name": "stdout",
     "output_type": "stream",
     "text": [
      "+-------------+-------------------+--------+----+---------+-------+\n",
      "|     issue_id|           tweet_id|class_id|line|line_name|line_id|\n",
      "+-------------+-------------------+--------+----+---------+-------+\n",
      "|1219770712064|1062662964489129984|       1|  L1|       L1|     14|\n",
      "|1219770712065|1062662964489129984|       1|  L2|       L2|     12|\n",
      "|1219770712066|1062662964489129984|       1|  L3|       L3|     10|\n",
      "|1219770712067|1062662964489129984|       1|  L9|       L9|      0|\n",
      "|1219770712068|1064889115932528641|       1| L10|      L10|      9|\n",
      "|1219770712069|1065522105737990144|       1|  L9|       L9|      0|\n",
      "|1219770712070|1068495447407366145|       1|  L3|       L3|     10|\n",
      "|1219770712071|1068495447407366145|       1|  L6|       L6|      8|\n",
      "|1219770712072|1068864540367036416|       1|  L1|       L1|     14|\n",
      "|1219770712073|1068894720062095361|       1|  L1|       L1|     14|\n",
      "+-------------+-------------------+--------+----+---------+-------+\n",
      "only showing top 10 rows\n",
      "\n"
     ]
    }
   ],
   "source": [
    "mentions.join(tweet_dim,\n",
    "                mentions.id == tweet_dim.tweet_id,\n",
    "              'inner'\n",
    "             ) \\\n",
    "        .join(class_dim,\n",
    "                class_dim.class_name == col('`classification.naive_bayes.result`'),\n",
    "              'inner'\n",
    "        )  \\\n",
    "        .withColumn('lines_array', generate_lines_udf(col('full_text'))) \\\n",
    "        .select(monotonically_increasing_id().alias('issue_id'), 'tweet_id', 'class_id', explode(col('lines_array')).alias('line')) \\\n",
    "        .join(lines_dim,\n",
    "              col('line') == lines_dim.line_name\n",
    "             ) \\\n",
    "        .show(10)"
   ]
  },
  {
   "cell_type": "markdown",
   "metadata": {},
   "source": [
    "### 4.2 Data Quality Checks\n",
    "Explain the data quality checks you'll perform to ensure the pipeline ran as expected. These could include:\n",
    " * Integrity constraints on the relational database (e.g., unique key, data type, etc.)\n",
    " * Unit tests for the scripts to ensure they are doing the right thing\n",
    " * Source/Count checks to ensure completeness\n",
    " \n",
    "Run Quality Checks"
   ]
  },
  {
   "cell_type": "code",
   "execution_count": null,
   "metadata": {},
   "outputs": [],
   "source": [
    "# Perform quality checks here"
   ]
  },
  {
   "cell_type": "markdown",
   "metadata": {},
   "source": [
    "### 4.3 Data dictionary \n",
    "Create a data dictionary for your data model. For each field, provide a brief description of what the data is and where it came from. You can include the data dictionary in the notebook or in a separate file."
   ]
  },
  {
   "cell_type": "markdown",
   "metadata": {},
   "source": [
    "### Step 5: Complete Project Write Up\n",
    "* Clearly state the rationale for the choice of tools and technologies for the project.\n",
    "* Propose how often the data should be updated and why.\n",
    "* Write a description of how you would approach the problem differently under the following scenarios:\n",
    " * The data was increased by 100x.\n",
    " * The data populates a dashboard that must be updated on a daily basis by 7am every day.\n",
    " * The database needed to be accessed by 100+ people."
   ]
  },
  {
   "cell_type": "code",
   "execution_count": null,
   "metadata": {},
   "outputs": [],
   "source": []
  }
 ],
 "metadata": {
  "kernelspec": {
   "display_name": "Python 3",
   "language": "python",
   "name": "python3"
  },
  "language_info": {
   "codemirror_mode": {
    "name": "ipython",
    "version": 3
   },
   "file_extension": ".py",
   "mimetype": "text/x-python",
   "name": "python",
   "nbconvert_exporter": "python",
   "pygments_lexer": "ipython3",
   "version": "3.7.9"
  }
 },
 "nbformat": 4,
 "nbformat_minor": 4
}
